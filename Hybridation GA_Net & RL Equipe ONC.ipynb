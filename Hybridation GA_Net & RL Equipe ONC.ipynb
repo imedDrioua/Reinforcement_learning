{
 "cells": [
  {
   "cell_type": "markdown",
   "id": "07a32dba",
   "metadata": {},
   "source": [
    "# Hybridation de GA_net avec reinforcement learning pour la résolution du problème de PDC\n"
   ]
  },
  {
   "cell_type": "markdown",
   "id": "a26a881f",
   "metadata": {},
   "source": [
    "### Implémentation : DRIOUA Imed\n",
    "**Equipe ONC ** "
   ]
  },
  {
   "cell_type": "code",
   "execution_count": 5,
   "id": "2dd81ad2",
   "metadata": {
    "executionInfo": {
     "elapsed": 468,
     "status": "ok",
     "timestamp": 1654003633254,
     "user": {
      "displayName": "Seyfelislem ABER",
      "userId": "09182254742027082968"
     },
     "user_tz": -60
    },
    "id": "2dd81ad2"
   },
   "outputs": [],
   "source": [
    "import warnings\n",
    "warnings.filterwarnings('ignore')"
   ]
  },
  {
   "cell_type": "code",
   "execution_count": 6,
   "id": "670d0acf",
   "metadata": {
    "executionInfo": {
     "elapsed": 10,
     "status": "ok",
     "timestamp": 1654003635001,
     "user": {
      "displayName": "Seyfelislem ABER",
      "userId": "09182254742027082968"
     },
     "user_tz": -60
    },
    "id": "670d0acf"
   },
   "outputs": [],
   "source": [
    "import networkx as nx\n",
    "import numpy as np\n",
    "import pandas as pd\n",
    "import matplotlib.pyplot as plt\n",
    "import sklearn\n",
    "from sklearn.metrics.cluster import normalized_mutual_info_score\n",
    "import collections\n",
    "from itertools import product\n",
    "import networkx.algorithms.community as nx_comm\n",
    "import random\n",
    "\n",
    "from scipy.stats import entropy\n",
    "from scipy.special import softmax\n",
    "import statistics as stc"
   ]
  },
  {
   "cell_type": "markdown",
   "id": "fde65a03",
   "metadata": {},
   "source": [
    "# Fonction de la mutation\n"
   ]
  },
  {
   "cell_type": "code",
   "execution_count": 7,
   "id": "7d950cad",
   "metadata": {
    "executionInfo": {
     "elapsed": 5,
     "status": "ok",
     "timestamp": 1654003637239,
     "user": {
      "displayName": "Seyfelislem ABER",
      "userId": "09182254742027082968"
     },
     "user_tz": -60
    },
    "id": "7d950cad"
   },
   "outputs": [],
   "source": [
    "def mutate(chromosome, p):\n",
    "    n = np.random.random_sample()\n",
    "    if n < p:  # if random num is less than probability, mutate\n",
    "        # The random value to be added to the gene.\n",
    "        idx = int(np.random.uniform(0,10,1))\n",
    "        random_value = int(np.random.uniform(0,10,1))\n",
    "        chromosome[idx] =  random_value\n",
    "\n",
    "    return chromosome"
   ]
  },
  {
   "cell_type": "markdown",
   "id": "f15754a4",
   "metadata": {
    "id": "f15754a4"
   },
   "source": [
    "# Opérateurs de croisement"
   ]
  },
  {
   "cell_type": "code",
   "execution_count": 8,
   "id": "2437bb56",
   "metadata": {
    "executionInfo": {
     "elapsed": 525,
     "status": "ok",
     "timestamp": 1654003640598,
     "user": {
      "displayName": "Seyfelislem ABER",
      "userId": "09182254742027082968"
     },
     "user_tz": -60
    },
    "id": "2437bb56"
   },
   "outputs": [],
   "source": [
    "def uniform_crossover(parent_1,parent_2,crossover_rate):\n",
    "    if np.random.random_sample() < crossover_rate:\n",
    "        length = len(parent_1)\n",
    "        mask = np.random.randint(2, size=length)\n",
    "        child = np.zeros(length,dtype=int)\n",
    "        for i in range(len(mask)):\n",
    "            if mask[i] == 1:\n",
    "                child[i]=parent_1[i]\n",
    "            else:\n",
    "                child[i]=parent_2[i]\n",
    "        return child\n",
    "    else:\n",
    "        return np.array([])\n",
    "    \n",
    "def uniform_crossover_1point(parent_1,parent_2,crossover_rate):\n",
    "    if np.random.random_sample() < crossover_rate:\n",
    "        length = len(parent_1)\n",
    "        mask = np.zeros(length,dtype=int)\n",
    "        pos = np.random.randint(0,length)\n",
    "        mask[pos]=1\n",
    "        child = np.zeros(length,dtype=int)\n",
    "        for i in range(len(mask)):\n",
    "            if mask[i] == 1:\n",
    "                child[i]=parent_1[i]\n",
    "            else:\n",
    "                child[i]=parent_2[i]\n",
    "        return child\n",
    "    else:\n",
    "        return np.array([])\n",
    "    \n",
    "def uniform_crossover_2point(parent_1,parent_2,crossover_rate):\n",
    "    if np.random.random_sample() < crossover_rate:\n",
    "        length = len(parent_1)\n",
    "        mask = np.zeros(length,dtype=int)\n",
    "        pos1 = np.random.randint(0,length)\n",
    "        pos2 = np.random.randint(0,length)\n",
    "        mask[pos1]=1\n",
    "        mask[pos2]=1\n",
    "        child = np.zeros(length,dtype=int)\n",
    "        for i in range(len(mask)):\n",
    "            if mask[i] == 1:\n",
    "                child[i]=parent_1[i]\n",
    "            else:\n",
    "                child[i]=parent_2[i]\n",
    "        return child\n",
    "    else:\n",
    "        return np.array([])   \n",
    "    \n",
    "\n",
    "\n",
    "\n",
    "def cxTwoPoint(ind1, ind2):\n",
    "    \n",
    "    size = min(len(ind1), len(ind2))\n",
    "    cxpoint1 = np.random.randint(1, size)\n",
    "    cxpoint2 = np.random.randint(1, size - 1)\n",
    "    if cxpoint2 >= cxpoint1:\n",
    "        cxpoint2 += 1\n",
    "    else:  # Swap the two cx points\n",
    "        cxpoint1, cxpoint2 = cxpoint2, cxpoint1\n",
    "\n",
    "    ind1[cxpoint1:cxpoint2], ind2[cxpoint1:cxpoint2] \\\n",
    "        = ind2[cxpoint1:cxpoint2], ind1[cxpoint1:cxpoint2]\n",
    "\n",
    "    return ind1\n",
    "\n"
   ]
  },
  {
   "cell_type": "markdown",
   "id": "4b3adbb1",
   "metadata": {},
   "source": [
    "# Fonction de selection des actions"
   ]
  },
  {
   "cell_type": "code",
   "execution_count": 9,
   "id": "c94703c1",
   "metadata": {
    "executionInfo": {
     "elapsed": 7,
     "status": "ok",
     "timestamp": 1654003642012,
     "user": {
      "displayName": "Seyfelislem ABER",
      "userId": "09182254742027082968"
     },
     "user_tz": -60
    },
    "id": "c94703c1"
   },
   "outputs": [],
   "source": [
    "def selection_policy(Q_row,action_size,beta,gen,it):\n",
    "    if( it < ((2 * gen)/100)) :   ## Exploration (2% de nombre d'itération)\n",
    "        return  random.randint(0, 3) \n",
    "    else :                        ## Eploitation\n",
    "        return np.argmax(Q_row)"
   ]
  },
  {
   "cell_type": "code",
   "execution_count": 10,
   "id": "a78fca9d",
   "metadata": {
    "executionInfo": {
     "elapsed": 11,
     "status": "ok",
     "timestamp": 1654003645012,
     "user": {
      "displayName": "Seyfelislem ABER",
      "userId": "09182254742027082968"
     },
     "user_tz": -60
    },
    "id": "a78fca9d"
   },
   "outputs": [],
   "source": [
    "def find_chrom(subset,nodes_size):\n",
    "    new_subset = []\n",
    "    for s in subset:\n",
    "        new_s = list(s)\n",
    "        new_subset.append(new_s)\n",
    "        \n",
    "    chrom = []    \n",
    "    for i in range(nodes_size):\n",
    "        j = 0\n",
    "        while (i not in new_subset[j]):\n",
    "            j += 1\n",
    "        ind =  (new_subset[j].index(i) + 1)%len(new_subset[j])\n",
    "        chrom.append(new_subset[j][ind])   \n",
    "    return chrom            \n",
    "                "
   ]
  },
  {
   "cell_type": "markdown",
   "id": "c42a545b",
   "metadata": {},
   "source": [
    "#  Fonction de selection des états\n"
   ]
  },
  {
   "cell_type": "code",
   "execution_count": 11,
   "id": "d77fabf6",
   "metadata": {
    "executionInfo": {
     "elapsed": 12,
     "status": "ok",
     "timestamp": 1654003645015,
     "user": {
      "displayName": "Seyfelislem ABER",
      "userId": "09182254742027082968"
     },
     "user_tz": -60
    },
    "id": "d77fabf6"
   },
   "outputs": [],
   "source": [
    "def get_state_mod(value):\n",
    "    if(value < 0 ):\n",
    "        if(abs(value) <=0.1 ):\n",
    "            if(abs(value) <=0.05):\n",
    "                return 0\n",
    "            else :\n",
    "                return 1\n",
    "        else :\n",
    "            return 2\n",
    "            \n",
    "    elif(value ==0) :\n",
    "        return 3\n",
    "    else :\n",
    "        return 4"
   ]
  },
  {
   "cell_type": "markdown",
   "id": "f4cea329",
   "metadata": {},
   "source": [
    "# Algorithme principal"
   ]
  },
  {
   "cell_type": "code",
   "execution_count": 28,
   "id": "6e324326",
   "metadata": {
    "executionInfo": {
     "elapsed": 519,
     "status": "ok",
     "timestamp": 1654003646296,
     "user": {
      "displayName": "Seyfelislem ABER",
      "userId": "09182254742027082968"
     },
     "user_tz": -60
    },
    "id": "6e324326"
   },
   "outputs": [],
   "source": [
    "def community_detection(nodes,edges,population=300,generation=30,nbrEpisode = 5, r=1.5): \n",
    "    \n",
    "    graph=nx.Graph()\n",
    "    graph.add_nodes_from(nodes)\n",
    "    graph.add_edges_from(edges)\n",
    "    Adj = nx.adjacency_matrix(graph)\n",
    "    nodes_length = len(graph.nodes())\n",
    "    nodes_list = list(graph.nodes())\n",
    "    result = []\n",
    "    modulari = []\n",
    "     \n",
    "    action_size = 4\n",
    "    state_size = 5\n",
    "    beta = 0.25 \n",
    "    alpha = 0.3\n",
    "    gamma = 0.2\n",
    "    \n",
    "    Q_table = np.zeros((state_size,action_size)) ## Initialisation de la Q_table\n",
    "    \n",
    "  \n",
    "    ################################ Génération de la population initiale ################################\n",
    "    d = {\"chrom\":[generate_chrom(nodes_length,Adj) for n in range(population)]}\n",
    "    dframe = pd.DataFrame(data= d)\n",
    "\n",
    "    subsets = dframe[\"chrom\"].apply(find_subsets)\n",
    "    dframe[\"subsets\"] = subsets\n",
    "   \n",
    "    \n",
    "    for i in range (dframe.shape[0]):\n",
    "        result = []\n",
    "        row = dframe.iloc [i , :]\n",
    "        chrom = row[\"chrom\"]\n",
    "        for subs in row[\"subsets\"]:\n",
    "            subset = []\n",
    "            for n in subs:\n",
    "                subset.append(nodes_list[n])\n",
    "            result.append(subset)\n",
    "        modulari.append (modularity(graph,np.array(result)))\n",
    "        #print (modularity(graph,np.array(result)))\n",
    "    dframe[\"modularity\"] = np.array(modulari)\n",
    "    #print (modulari)\n",
    "    mod_init= max(dframe[\"modularity\"])\n",
    "    ################################ Fin Génération de la population initiale + fitness ################################\n",
    "    gen = 0\n",
    "    population_count = population\n",
    "    pop_best = max(dframe[\"modularity\"])\n",
    "    k = 0\n",
    "    state = 3 ## On commence par l'état 3 qui représente -- il y a aucun gain --\n",
    "   \n",
    "\n",
    "    \n",
    "    ################################ Boucle principale ################################\n",
    "    resu = []\n",
    "    while gen < generation :\n",
    "        qlearning = 0\n",
    "        children_mod = []\n",
    "        max_modularite_pop = max(dframe[\"modularity\"])\n",
    "        ## Boucle des épisodes##################################################\n",
    "        while  qlearning < nbrEpisode:\n",
    "        \n",
    "         \n",
    "          old_pop = dframe.copy()\n",
    "          pop_best = max(old_pop[\"modularity\"])\n",
    "              \n",
    "        ################################ générer population/10 enfants \"M\"  ################################ \n",
    "          for i in range(int(np.floor(population/10))+50):\n",
    "              old =  max(dframe[\"modularity\"])\n",
    "      \n",
    "              ## ordonner selon modularity\n",
    "              elites = dframe.sort_values(\"modularity\",ascending=True)[int(np.floor(population/10)):]\n",
    "                                 \n",
    "              p1 = roulette_selection(elites)\n",
    "              p2 = roulette_selection(elites)\n",
    "              \n",
    "              ### Croisement ##\n",
    "              its = (int(np.floor(population/10))+50)* generation * nbrEpisode \n",
    "              it= (((gen * nbrEpisode) + qlearning) * (int(np.floor(population/10))+50) )+i  \n",
    "              ##Choisir l'action\n",
    "            \n",
    "              action = selection_policy(Q_table[state],action_size,beta,its,it)  \n",
    "              \n",
    "              if(action == 0):\n",
    "                  child=uniform_crossover(dframe[\"chrom\"][p1],dframe[\"chrom\"][p2],1)\n",
    "                  \n",
    "              elif(action == 1): \n",
    "                  child=cxTwoPoint(dframe[\"chrom\"][p1],dframe[\"chrom\"][p2])\n",
    "                  \n",
    "              elif(action == 2): \n",
    "                  child=uniform_crossover_1point(dframe[\"chrom\"][p1],dframe[\"chrom\"][p2],1) \n",
    "                  \n",
    "              elif(action == 3): \n",
    "                  child=uniform_crossover_2point(dframe[\"chrom\"][p1],dframe[\"chrom\"][p2],1)\n",
    "              if len(child)==0:\n",
    "                  continue           \n",
    "              child=mutate(child, 0.2)\n",
    "              child_subsets = find_subsets(child)\n",
    "              #child_cs = community_score(child,child_subsets,r,Adj)\n",
    "              result = []\n",
    "              for subs in child_subsets:\n",
    "                  subset = []\n",
    "                  for n in subs:\n",
    "                      subset.append(nodes_list[n])\n",
    "                  result.append(subset)   \n",
    "              child_mod = modularity(graph,np.array(result))\n",
    "              #print(\"p1 = \",dframe[\"modularity\"][p1] ,\"p2 = \",dframe[\"modularity\"][p2], \"child = \",child_mod)\n",
    "              #print(\"child_mod = \",child_mod)\n",
    "              value =  child_mod -  max(dframe[\"modularity\"])\n",
    "              dframe.loc[population_count]=[child,child_subsets,child_mod]\n",
    "              children_mod.append(child_mod)\n",
    "              maxPrents = max(dframe[\"modularity\"][p1],dframe[\"modularity\"][p2]) \n",
    "              rm = child_mod - maxPrents\n",
    "              \"\"\"\n",
    "              Au cas y aurait heuristiques on ajoute une pénamisation avec le temps de l'exécution\n",
    "              if(action >= 4) :\n",
    "                  #rm -= 1 / (1 + np.exp(-duree))\n",
    "              \"\"\"    \n",
    "              if(rm <= 0) :\n",
    "                  rm -= 0.5  \n",
    "                  \n",
    "              new_state = get_state_mod(value)\n",
    "              #Mise à jour de la table Q_learning\n",
    "                \n",
    "              Q_table[state][action] = (1-alpha)*Q_table[state][action] + alpha*(rm + gamma*max(Q_table[new_state]))\n",
    "              state = new_state\n",
    "              \n",
    "              population_count += 1\n",
    "               \n",
    "\n",
    "          #### Remplacement\n",
    "          dfsorted = dframe.sort_values(\"modularity\",ascending=False)\n",
    "          to_drop = dfsorted.index[population:]\n",
    "          dframe.drop(to_drop,inplace=True)\n",
    "          qlearning+=1\n",
    "                \n",
    "        maxPop = max(old_pop[\"modularity\"])\n",
    "          \n",
    "        gen +=1   \n",
    "        new_pop_best = max(dframe[\"modularity\"])\n",
    "\n",
    "        \n",
    "    ################################ Fin Boucle principale ################################  \n",
    "    \n",
    "    \n",
    "   ################################  Calculer la meilleur solution dans la pop  ################################ \n",
    "    sorted_df = dframe.sort_values(\"modularity\",ascending=False).index[0]\n",
    "    result = []\n",
    "    modulari = []\n",
    "    for i in range (dframe.shape[0]):\n",
    "        result = []\n",
    "        row = dframe.iloc [i , :]\n",
    "        chrom = row[\"chrom\"]\n",
    "        for subs in row[\"subsets\"]:\n",
    "            subset = []\n",
    "            for n in subs:\n",
    "                subset.append(nodes_list[n])\n",
    "            result.append(subset)\n",
    "        #print(\"ici\")\n",
    "        modulari.append (modularity(graph,np.array(result)))\n",
    "    dframe[\"modularity\"] = np.array(modulari)\n",
    "    nodes_subsets = dframe[\"subsets\"][sorted_df]\n",
    "    nodes_list = list(graph.nodes())\n",
    "    result = []\n",
    "    for subs in nodes_subsets:\n",
    "        subset = []\n",
    "        for n in subs:\n",
    "            subset.append(nodes_list[n])\n",
    "        result.append(subset)\n",
    "    #print(\"Q table :  \",Q_table)\n",
    "\n",
    "    ################################ Fin  Calculer la meilleur solution dans la pop  ################################  \n",
    "\n",
    "    return max( dframe[\"modularity\"]) \n",
    "\n",
    "def generate_chrom(nodes_length,Adj):\n",
    "    chrom = np.array([],dtype=int)\n",
    "    for x in range(nodes_length):\n",
    "        rand = np.random.randint(0,nodes_length)\n",
    "        while Adj[x,rand] != 1:\n",
    "            rand = np.random.randint(0,nodes_length)\n",
    "        chrom = np.append(chrom,rand)\n",
    "    return chrom\n",
    "\n",
    "def merge_subsets(sub):\n",
    "    arr =[]\n",
    "    to_skip=[]\n",
    "    for s in range(len(sub)):\n",
    "        if sub[s] not in to_skip:\n",
    "            new = sub[s]\n",
    "            for x in sub:\n",
    "                if sub[s] & x:\n",
    "                    new = new | x\n",
    "                    to_skip.append(x)\n",
    "            arr.append(new)\n",
    "    return arr\n",
    "\n",
    "def find_subsets(chrom):\n",
    "    sub = [{x,chrom[x]} for x in range(len(chrom))]\n",
    "    result=sub\n",
    "    i=0\n",
    "    while i<len(result):\n",
    "        candidate = merge_subsets(result)\n",
    "        if candidate != result:\n",
    "            result = candidate\n",
    "        else:\n",
    "            break\n",
    "        result=candidate\n",
    "        i+=1\n",
    "    return result\n",
    "\n",
    "\n",
    "def roulette_selection(df_elites):\n",
    "    prob = np.random.random_sample()\n",
    "    sum_cs=np.sum(df_elites[\"modularity\"])\n",
    "    x=0\n",
    "    selected = 0\n",
    "    for i in df_elites.index:\n",
    "        x += df_elites[\"modularity\"][i]\n",
    "        X=x/sum_cs\n",
    "        if prob < X:\n",
    "            chosen=i\n",
    "            break\n",
    "    return chosen\n",
    "\n",
    "\n",
    "def modularity(G, partition):\n",
    "    \"\"\"Returns the modularity of the partition of an undirected graph G.\"\"\"\n",
    "    #print(dict(partition))\n",
    "    #print(partition)\n",
    "    partitions = [set(partition[i]) for i in range (partition.shape[0])]\n",
    "    if is_partition(G,partitions):\n",
    "        mod = nx_comm.modularity(G, partitions)\n",
    "    else :\n",
    "        mod = 0\n",
    "    return mod\n"
   ]
  },
  {
   "cell_type": "code",
   "execution_count": 19,
   "id": "e42c1ecc",
   "metadata": {
    "executionInfo": {
     "elapsed": 16,
     "status": "ok",
     "timestamp": 1654003646297,
     "user": {
      "displayName": "Seyfelislem ABER",
      "userId": "09182254742027082968"
     },
     "user_tz": -60
    },
    "id": "e42c1ecc"
   },
   "outputs": [],
   "source": [
    "def is_partition(N,C):\n",
    "\n",
    "    for n in N:\n",
    "        aff = affiliation(n,C)\n",
    "        if not len(aff) == 1:\n",
    "            return False\n",
    "    return True\n",
    "\n",
    "def affiliation(n,C):\n",
    "\n",
    "    aff = []\n",
    "    i = 0\n",
    "    for c in C:\n",
    "        if n in c:\n",
    "            aff.append(i)\n",
    "        i+=1\n",
    "    return aff"
   ]
  },
  {
   "cell_type": "code",
   "execution_count": 20,
   "id": "ed606066",
   "metadata": {
    "executionInfo": {
     "elapsed": 14,
     "status": "ok",
     "timestamp": 1654003646298,
     "user": {
      "displayName": "Seyfelislem ABER",
      "userId": "09182254742027082968"
     },
     "user_tz": -60
    },
    "id": "ed606066"
   },
   "outputs": [],
   "source": [
    "import matplotlib.pyplot as plt\n",
    "\n",
    "def draw_graph(H,node_size = 200):\n",
    "    N = H.nodes\n",
    "    E = H.edges\n",
    "    return community_detection(N,E)\n"
   ]
  },
  {
   "cell_type": "code",
   "execution_count": 21,
   "id": "af76ddb6",
   "metadata": {
    "executionInfo": {
     "elapsed": 16,
     "status": "ok",
     "timestamp": 1654003646302,
     "user": {
      "displayName": "Seyfelislem ABER",
      "userId": "09182254742027082968"
     },
     "user_tz": -60
    },
    "id": "af76ddb6"
   },
   "outputs": [],
   "source": [
    "def draw_plot(mod):\n",
    "    plt.figure(figsize=(20,10))\n",
    "    plt.plot(mod)\n",
    "    #plt.xlabel('Episodes') \n",
    "    #plt.ylabel('Nombre des etapes') \n",
    "    #plt.legend()\n",
    "    plt.show()"
   ]
  },
  {
   "cell_type": "markdown",
   "id": "KC5hKjN8Larl",
   "metadata": {
    "id": "KC5hKjN8Larl"
   },
   "source": [
    "# Tests"
   ]
  },
  {
   "cell_type": "markdown",
   "id": "jwmNs9lvLXeo",
   "metadata": {
    "id": "jwmNs9lvLXeo"
   },
   "source": [
    "# 1- Football\n"
   ]
  },
  {
   "cell_type": "code",
   "execution_count": 22,
   "id": "a4ff92a3",
   "metadata": {
    "colab": {
     "base_uri": "https://localhost:8080/"
    },
    "executionInfo": {
     "elapsed": 211085,
     "status": "ok",
     "timestamp": 1654003858333,
     "user": {
      "displayName": "Seyfelislem ABER",
      "userId": "09182254742027082968"
     },
     "user_tz": -60
    },
    "id": "a4ff92a3",
    "outputId": "25ac38de-f168-471a-e48b-9d12f97e76e3",
    "scrolled": true
   },
   "outputs": [
    {
     "name": "stdout",
     "output_type": "stream",
     "text": [
      "Q table :   [[-0.69778789 -0.66573558 -0.6345608  -0.6628486 ]\n",
      " [-0.67947922 -0.69152707 -0.68517221 -0.62932   ]\n",
      " [-0.70497338 -0.71917816 -0.70143445 -0.63950978]\n",
      " [-0.64908676 -0.6331308  -0.64835161 -0.64917066]\n",
      " [-0.39539183 -0.41386535 -0.44612255 -0.38647975]]\n",
      "Modularité finale : 0.539147721073319\n"
     ]
    }
   ],
   "source": [
    "G = nx.read_gml(\"data/football.gml\",label=\"id\")\n",
    "print(\"Modularité finale :\",draw_graph(G, node_size = 300) )\n"
   ]
  },
  {
   "cell_type": "markdown",
   "id": "1082c811",
   "metadata": {},
   "source": [
    "# Karate"
   ]
  },
  {
   "cell_type": "code",
   "execution_count": 23,
   "id": "19d7fa6d",
   "metadata": {},
   "outputs": [
    {
     "name": "stdout",
     "output_type": "stream",
     "text": [
      "Q table :   [[-0.78735655 -0.76889615 -0.63803    -0.75636594]\n",
      " [-0.63277499 -0.74545621 -0.76444912 -0.74562759]\n",
      " [-0.72175219 -0.71523348 -0.65105259 -0.73007442]\n",
      " [-0.7175606  -0.72206706 -0.73672182 -0.64781163]\n",
      " [-0.1812465  -0.18089664 -0.18877968 -0.1775392 ]]\n",
      "Modularité finale : 0.41978961209730437\n"
     ]
    }
   ],
   "source": [
    "G = nx.read_gml(\"data/karate.gml\",label=\"id\")\n",
    "print(\"Modularité finale :\",draw_graph(G, node_size = 300) )"
   ]
  },
  {
   "cell_type": "markdown",
   "id": "6ef168b2",
   "metadata": {},
   "source": [
    "# Dolphins"
   ]
  },
  {
   "cell_type": "code",
   "execution_count": 24,
   "id": "f5475752",
   "metadata": {},
   "outputs": [
    {
     "name": "stdout",
     "output_type": "stream",
     "text": [
      "Q table :   [[-0.71263102 -0.747071   -0.70742013 -0.62776543]\n",
      " [-0.76731455 -0.72114377 -0.72014761 -0.64129225]\n",
      " [-0.70259718 -0.70977136 -0.63132204 -0.72478565]\n",
      " [-0.67102907 -0.67332281 -0.67274808 -0.62855396]\n",
      " [-0.49417249 -0.49724099 -0.48014113 -0.50414688]]\n",
      "Modularité finale : 0.5285194414777896\n"
     ]
    }
   ],
   "source": [
    "G = nx.read_gml(\"data/dolphins.gml\",label=\"id\")\n",
    "print(\"Modularité finale :\",draw_graph(G, node_size = 300) )"
   ]
  },
  {
   "cell_type": "markdown",
   "id": "13cf244b",
   "metadata": {},
   "source": [
    "# Polbooks"
   ]
  },
  {
   "cell_type": "code",
   "execution_count": 25,
   "id": "5bfca5a6",
   "metadata": {},
   "outputs": [
    {
     "name": "stdout",
     "output_type": "stream",
     "text": [
      "Q table :   [[-0.63107041 -0.81240546 -0.80338751 -0.80379089]\n",
      " [-0.64078527 -0.8017619  -0.78910667 -0.82197684]\n",
      " [-0.76151212 -0.76335574 -0.65044468 -0.7732655 ]\n",
      " [-0.64380138 -0.79395772 -0.80794043 -0.79570625]\n",
      " [-0.4366412  -0.48819999 -0.42797621 -0.47014563]]\n",
      "Modularité finale : 0.5266452764023222\n"
     ]
    }
   ],
   "source": [
    "G = nx.read_gml(\"data/polbooks.gml\",label=\"id\")\n",
    "print(\"Modularité finale :\",draw_graph(G, node_size = 300) )"
   ]
  },
  {
   "cell_type": "markdown",
   "id": "df7ba4c3",
   "metadata": {},
   "source": [
    "# Tests avec la plusieurs exécutions (On prend Moyenne - Min - Max)"
   ]
  },
  {
   "cell_type": "markdown",
   "id": "ea460418",
   "metadata": {},
   "source": [
    "## Polbooks\n"
   ]
  },
  {
   "cell_type": "code",
   "execution_count": 31,
   "id": "FO9ceXn3R5Fi",
   "metadata": {
    "colab": {
     "base_uri": "https://localhost:8080/"
    },
    "id": "FO9ceXn3R5Fi",
    "outputId": "8476bc16-d989-45a0-8ea5-197c82c6c6e5"
   },
   "outputs": [
    {
     "name": "stdout",
     "output_type": "stream",
     "text": [
      "Mean  =  0.5256660033627963\n",
      "Worst   =  0.5215316663324437\n",
      "Best   =  0.5272365938060788\n"
     ]
    }
   ],
   "source": [
    "H = nx.read_gml(\"data/polbooks.gml\",label=\"id\")\n",
    "mods = []\n",
    "for i in range(10): # 10 exécutions\n",
    "  mod = community_detection(H.nodes(),H.edges())\n",
    "  mods.append(mod)\n",
    "    \n",
    "print(\"Mean  = \" ,np.mean(mods))\n",
    "print(\"Worst   = \" ,np.min(mods))\n",
    "print(\"Best   = \" ,np.max(mods))"
   ]
  },
  {
   "cell_type": "markdown",
   "id": "976f7f61",
   "metadata": {},
   "source": [
    "## Football"
   ]
  },
  {
   "cell_type": "code",
   "execution_count": 32,
   "id": "c17d75b4",
   "metadata": {},
   "outputs": [
    {
     "name": "stdout",
     "output_type": "stream",
     "text": [
      "Mean  =  0.554630105197608\n",
      "Worst   =  0.5097932506406861\n",
      "Best   =  0.5809260476516156\n"
     ]
    }
   ],
   "source": [
    "H = nx.read_gml(\"data/football.gml\",label=\"id\")\n",
    "mods = []\n",
    "for i in range(10): # 10 exécutions\n",
    "  mod = community_detection(H.nodes(),H.edges())\n",
    "  mods.append(mod)\n",
    "    \n",
    "print(\"Mean  = \" ,np.mean(mods))\n",
    "print(\"Worst   = \" ,np.min(mods))\n",
    "print(\"Best   = \" ,np.max(mods))"
   ]
  },
  {
   "cell_type": "markdown",
   "id": "0c50f4e4",
   "metadata": {},
   "source": [
    "## Dolphins"
   ]
  },
  {
   "cell_type": "code",
   "execution_count": 33,
   "id": "hZxfybGCTjf6",
   "metadata": {
    "id": "hZxfybGCTjf6"
   },
   "outputs": [
    {
     "name": "stdout",
     "output_type": "stream",
     "text": [
      "Mean  =  0.5239468375459831\n",
      "Worst   =  0.5181361496776236\n",
      "Best   =  0.5285194414777896\n"
     ]
    }
   ],
   "source": [
    "H = nx.read_gml(\"data/dolphins.gml\",label=\"id\")\n",
    "mods = []\n",
    "for i in range(10): # 10 exécutions\n",
    "  mod = community_detection(H.nodes(),H.edges())\n",
    "  mods.append(mod)\n",
    "    \n",
    "print(\"Mean  = \" ,np.mean(mods))\n",
    "print(\"Worst   = \" ,np.min(mods))\n",
    "print(\"Best   = \" ,np.max(mods))"
   ]
  },
  {
   "cell_type": "markdown",
   "id": "7c1aa073",
   "metadata": {
    "id": "7c1aa073"
   },
   "source": [
    "# Tests avec Benchmarks"
   ]
  },
  {
   "cell_type": "code",
   "execution_count": 34,
   "id": "bc8fe756",
   "metadata": {
    "id": "bc8fe756"
   },
   "outputs": [],
   "source": [
    "def read_data(file_name): ## Fonction pour lire les fichiers de type network.dat\n",
    "    G = nx.Graph()\n",
    "    with open(file_name, \"r\") as f:\n",
    "        for line in f:\n",
    "            if line[0] == \"#\":\n",
    "                continue\n",
    "            N1, N2 = map(int, line.split())\n",
    "            weight = 1 \n",
    "            G.add_edge(N1, N2)\n",
    "    return G"
   ]
  },
  {
   "cell_type": "markdown",
   "id": "4a61bd04",
   "metadata": {},
   "source": [
    "# Graph 0.1"
   ]
  },
  {
   "cell_type": "code",
   "execution_count": 36,
   "id": "06082e12",
   "metadata": {},
   "outputs": [
    {
     "name": "stdout",
     "output_type": "stream",
     "text": [
      "Mean  =  0.64736328125\n",
      "Worst   =  0.6153564453125\n",
      "Best   =  0.65234375\n"
     ]
    }
   ],
   "source": [
    "H = read_data(\"data/0.1/network.dat\")\n",
    "mods = []\n",
    "for i in range(10):\n",
    "    mod = community_detection(H.nodes(),H.edges())\n",
    "    mods.append(mod)\n",
    "    \n",
    "print(\"Mean  = \" ,np.mean(mods))\n",
    "print(\"Worst   = \" ,np.min(mods))\n",
    "print(\"Best   = \" ,np.max(mods))"
   ]
  },
  {
   "cell_type": "markdown",
   "id": "29362756",
   "metadata": {},
   "source": [
    "# Graph 0.3"
   ]
  },
  {
   "cell_type": "code",
   "execution_count": 37,
   "id": "7bf394ed",
   "metadata": {},
   "outputs": [
    {
     "name": "stdout",
     "output_type": "stream",
     "text": [
      "Mean  =  0.27177734375\n",
      "Worst   =  0.2384033203125\n",
      "Best   =  0.310302734375\n"
     ]
    }
   ],
   "source": [
    "H = read_data(\"data/0.3/network.dat\")\n",
    "mods = []\n",
    "for i in range(10):\n",
    "    mod = community_detection(H.nodes(),H.edges())\n",
    "    mods.append(mod)\n",
    "    \n",
    "print(\"Mean  = \" ,np.mean(mods))\n",
    "print(\"Worst   = \" ,np.min(mods))\n",
    "print(\"Best   = \" ,np.max(mods))"
   ]
  },
  {
   "cell_type": "markdown",
   "id": "9506b3b2",
   "metadata": {},
   "source": [
    "# Graph 0.6"
   ]
  },
  {
   "cell_type": "code",
   "execution_count": 38,
   "id": "7b5f9a32",
   "metadata": {},
   "outputs": [
    {
     "name": "stdout",
     "output_type": "stream",
     "text": [
      "Mean  =  0.14066162109375\n",
      "Worst   =  0.13037109375\n",
      "Best   =  0.15283203125\n"
     ]
    }
   ],
   "source": [
    "H = read_data(\"data/0.6/network.dat\")\n",
    "mods = []\n",
    "for i in range(10):\n",
    "    mod = community_detection(H.nodes(),H.edges())\n",
    "    mods.append(mod)\n",
    "    \n",
    "print(\"Mean  = \" ,np.mean(mods))\n",
    "print(\"Worst   = \" ,np.min(mods))\n",
    "print(\"Best   = \" ,np.max(mods))"
   ]
  },
  {
   "cell_type": "markdown",
   "id": "8684bd82",
   "metadata": {},
   "source": [
    "# Graph 0.9"
   ]
  },
  {
   "cell_type": "code",
   "execution_count": 39,
   "id": "df0d88eb",
   "metadata": {},
   "outputs": [
    {
     "name": "stdout",
     "output_type": "stream",
     "text": [
      "Mean  =  0.1398193359375\n",
      "Worst   =  0.1295166015625\n",
      "Best   =  0.1533203125\n"
     ]
    }
   ],
   "source": [
    "H = read_data(\"data/0.9/network.dat\")\n",
    "mods = []\n",
    "for i in range(10):\n",
    "    mod = community_detection(H.nodes(),H.edges())\n",
    "    mods.append(mod)\n",
    "    \n",
    "print(\"Mean  = \" ,np.mean(mods))\n",
    "print(\"Worst   = \" ,np.min(mods))\n",
    "print(\"Best   = \" ,np.max(mods))"
   ]
  },
  {
   "cell_type": "markdown",
   "id": "bf72222f",
   "metadata": {},
   "source": [
    "# Tests Complémentaires"
   ]
  },
  {
   "cell_type": "markdown",
   "id": "9b1aedfd",
   "metadata": {},
   "source": [
    "## 1. Utilisation d'un seul Operateur VS plusieurs lors de l'exécution de GA_NET"
   ]
  },
  {
   "cell_type": "code",
   "execution_count": 35,
   "id": "6a3cbbf0",
   "metadata": {},
   "outputs": [
    {
     "data": {
      "image/png": "[encoded data removed]",
      "text/plain": [
       "<Figure size 864x432 with 1 Axes>"
      ]
     },
     "metadata": {
      "needs_background": "light"
     },
     "output_type": "display_data"
    }
   ],
   "source": [
    "x = np.arange(0,8,2)\n",
    "# Résultats de  Ga net classique pris pour chaque opérateur (à partir d'un autre notebook) sur le graphe polbooks\n",
    "ganet =  [0.4993168998513994, 0.48899069832014436, 0.48916089489461695, 0.48916012361104677 ]\n",
    "#Résultats de notre algorithme pris à partir des tests ci-dessus sur le meme graph\n",
    "qlearn = [0.5250348363079169, 0.5250348363079169 , 0.5250348363079169, 0.5250348363079169 ]\n",
    "\n",
    "width = 0.4\n",
    "plt.figure(figsize=(12,6))  \n",
    "plt.bar(x-0.4, ganet, width, color='blue')\n",
    "plt.bar(x, qlearn, width, color='green')\n",
    "\n",
    "plt.xticks(x, ['uniform_crossover', 'cxTwoPoint', 'uniform_crossover_1point', 'uniform_crossover_2point'])\n",
    "plt.yticks(np.arange(0, 0.7, 0.05))\n",
    "plt.xlabel(\"Operateurs\")\n",
    "plt.ylabel(\"Modularité\")\n",
    "plt.legend([\"Ganet classique\", \"Ganet avec RL\"])\n",
    "plt.show()"
   ]
  },
  {
   "cell_type": "markdown",
   "id": "0add1a4d",
   "metadata": {},
   "source": [
    "## 2. Politique de choix aléatoire VS politique  basée sur le Q_learning"
   ]
  },
  {
   "cell_type": "code",
   "execution_count": 40,
   "id": "934dc2a3",
   "metadata": {},
   "outputs": [
    {
     "data": {
      "image/png": "[encoded data removed]",
      "text/plain": [
       "<Figure size 864x432 with 1 Axes>"
      ]
     },
     "metadata": {
      "needs_background": "light"
     },
     "output_type": "display_data"
    }
   ],
   "source": [
    "x = np.arange(3)\n",
    "# Résultats de  Ga net classique avec choix aléatoire de l'operateur (graph Dolphins)\n",
    "ganet = [0.46900489396411094 ,0.43985267544688356 ,0.45102549704738815]\n",
    "# Résultats de notre algorithme sur le meme graph \n",
    "q_lern = [ 0.5269383641589667 , 0.5210303320118674 , 0.5250348363079169]\n",
    "\n",
    "width = 0.2\n",
    "plt.figure(figsize=(12, 6))\n",
    "plt.bar(x-0.2, ganet, width, color='blue')\n",
    "plt.bar(x, q_lern, width, color='green')\n",
    "\n",
    "plt.xticks(x, ['best', 'worst', 'mean'])\n",
    "plt.xlabel(\"Exécution\")\n",
    "plt.yticks(np.arange(0, 0.7, 0.03))\n",
    "plt.ylabel(\"Modularité\")\n",
    "plt.legend([\"Ganet classique\", \"Ganet avec RL\"])\n",
    "plt.show()"
   ]
  }
 ],
 "metadata": {
  "colab": {
   "collapsed_sections": [],
   "name": "GA_NET Q_LEARNING.ipynb",
   "provenance": []
  },
  "kernelspec": {
   "display_name": "Python 3",
   "language": "python",
   "name": "python3"
  },
  "language_info": {
   "codemirror_mode": {
    "name": "ipython",
    "version": 3
   },
   "file_extension": ".py",
   "mimetype": "text/x-python",
   "name": "python",
   "nbconvert_exporter": "python",
   "pygments_lexer": "ipython3",
   "version": "3.8.8"
  }
 },
 "nbformat": 4,
 "nbformat_minor": 5
}
